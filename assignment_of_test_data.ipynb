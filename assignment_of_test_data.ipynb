{
 "cells": [
  {
   "cell_type": "code",
   "execution_count": 14,
   "id": "7f2d39d1",
   "metadata": {},
   "outputs": [
    {
     "data": {
      "text/plain": [
       "'1.3.5'"
      ]
     },
     "execution_count": 14,
     "metadata": {},
     "output_type": "execute_result"
    }
   ],
   "source": [
    "import pandas as pd\n",
    "pd.__version__"
   ]
  },
  {
   "cell_type": "code",
   "execution_count": 20,
   "id": "16458409",
   "metadata": {},
   "outputs": [],
   "source": [
    "data=pd.read_excel('data1.xlsx')"
   ]
  },
  {
   "cell_type": "code",
   "execution_count": 21,
   "id": "90c9c8a4",
   "metadata": {},
   "outputs": [],
   "source": [
    "df=pd.DataFrame(data)"
   ]
  },
  {
   "cell_type": "code",
   "execution_count": 25,
   "id": "8e68e578",
   "metadata": {},
   "outputs": [
    {
     "data": {
      "text/html": [
       "<div>\n",
       "<style scoped>\n",
       "    .dataframe tbody tr th:only-of-type {\n",
       "        vertical-align: middle;\n",
       "    }\n",
       "\n",
       "    .dataframe tbody tr th {\n",
       "        vertical-align: top;\n",
       "    }\n",
       "\n",
       "    .dataframe thead th {\n",
       "        text-align: right;\n",
       "    }\n",
       "</style>\n",
       "<table border=\"1\" class=\"dataframe\">\n",
       "  <thead>\n",
       "    <tr style=\"text-align: right;\">\n",
       "      <th></th>\n",
       "      <th>Date</th>\n",
       "      <th>Close</th>\n",
       "      <th>Open</th>\n",
       "      <th>High</th>\n",
       "      <th>Low</th>\n",
       "    </tr>\n",
       "  </thead>\n",
       "  <tbody>\n",
       "    <tr>\n",
       "      <th>0</th>\n",
       "      <td>Nov 26, 2021</td>\n",
       "      <td>36157.80</td>\n",
       "      <td>37055.25</td>\n",
       "      <td>37093.75</td>\n",
       "      <td>36025.05</td>\n",
       "    </tr>\n",
       "    <tr>\n",
       "      <th>1</th>\n",
       "      <td>Nov 25, 2021</td>\n",
       "      <td>37364.75</td>\n",
       "      <td>37324.00</td>\n",
       "      <td>37538.70</td>\n",
       "      <td>37115.00</td>\n",
       "    </tr>\n",
       "    <tr>\n",
       "      <th>2</th>\n",
       "      <td>Nov 24, 2021</td>\n",
       "      <td>37465.00</td>\n",
       "      <td>37401.00</td>\n",
       "      <td>37895.50</td>\n",
       "      <td>37239.45</td>\n",
       "    </tr>\n",
       "    <tr>\n",
       "      <th>3</th>\n",
       "      <td>Nov 23, 2021</td>\n",
       "      <td>37284.30</td>\n",
       "      <td>36921.65</td>\n",
       "      <td>37474.95</td>\n",
       "      <td>36682.00</td>\n",
       "    </tr>\n",
       "    <tr>\n",
       "      <th>4</th>\n",
       "      <td>Nov 22, 2021</td>\n",
       "      <td>37182.10</td>\n",
       "      <td>38199.90</td>\n",
       "      <td>38214.10</td>\n",
       "      <td>36680.05</td>\n",
       "    </tr>\n",
       "    <tr>\n",
       "      <th>...</th>\n",
       "      <td>...</td>\n",
       "      <td>...</td>\n",
       "      <td>...</td>\n",
       "      <td>...</td>\n",
       "      <td>...</td>\n",
       "    </tr>\n",
       "    <tr>\n",
       "      <th>511</th>\n",
       "      <td>Nov 07, 2019</td>\n",
       "      <td>30664.35</td>\n",
       "      <td>30801.00</td>\n",
       "      <td>30848.95</td>\n",
       "      <td>30463.00</td>\n",
       "    </tr>\n",
       "    <tr>\n",
       "      <th>512</th>\n",
       "      <td>Nov 06, 2019</td>\n",
       "      <td>30682.60</td>\n",
       "      <td>30260.30</td>\n",
       "      <td>30780.00</td>\n",
       "      <td>30052.00</td>\n",
       "    </tr>\n",
       "    <tr>\n",
       "      <th>513</th>\n",
       "      <td>Nov 05, 2019</td>\n",
       "      <td>30294.15</td>\n",
       "      <td>30420.05</td>\n",
       "      <td>30519.90</td>\n",
       "      <td>30155.10</td>\n",
       "    </tr>\n",
       "    <tr>\n",
       "      <th>514</th>\n",
       "      <td>Nov 04, 2019</td>\n",
       "      <td>30396.05</td>\n",
       "      <td>30457.95</td>\n",
       "      <td>30658.00</td>\n",
       "      <td>30267.00</td>\n",
       "    </tr>\n",
       "    <tr>\n",
       "      <th>515</th>\n",
       "      <td>Nov 01, 2019</td>\n",
       "      <td>30374.10</td>\n",
       "      <td>30200.05</td>\n",
       "      <td>30449.45</td>\n",
       "      <td>30063.10</td>\n",
       "    </tr>\n",
       "  </tbody>\n",
       "</table>\n",
       "<p>516 rows × 5 columns</p>\n",
       "</div>"
      ],
      "text/plain": [
       "             Date     Close      Open      High       Low\n",
       "0    Nov 26, 2021  36157.80  37055.25  37093.75  36025.05\n",
       "1    Nov 25, 2021  37364.75  37324.00  37538.70  37115.00\n",
       "2    Nov 24, 2021  37465.00  37401.00  37895.50  37239.45\n",
       "3    Nov 23, 2021  37284.30  36921.65  37474.95  36682.00\n",
       "4    Nov 22, 2021  37182.10  38199.90  38214.10  36680.05\n",
       "..            ...       ...       ...       ...       ...\n",
       "511  Nov 07, 2019  30664.35  30801.00  30848.95  30463.00\n",
       "512  Nov 06, 2019  30682.60  30260.30  30780.00  30052.00\n",
       "513  Nov 05, 2019  30294.15  30420.05  30519.90  30155.10\n",
       "514  Nov 04, 2019  30396.05  30457.95  30658.00  30267.00\n",
       "515  Nov 01, 2019  30374.10  30200.05  30449.45  30063.10\n",
       "\n",
       "[516 rows x 5 columns]"
      ]
     },
     "execution_count": 25,
     "metadata": {},
     "output_type": "execute_result"
    }
   ],
   "source": [
    "df"
   ]
  },
  {
   "cell_type": "code",
   "execution_count": 40,
   "id": "74014c54",
   "metadata": {},
   "outputs": [
    {
     "name": "stdout",
     "output_type": "stream",
     "text": [
      "1. Make a average which has last 21 days close price\n",
      "\n",
      "\n",
      "Average of last 21 days close price: 31135.440476190477\n"
     ]
    }
   ],
   "source": [
    "print(\"1. Make a average which has last 21 days close price\\n\\n\")\n",
    "a=df.tail(21)\n",
    "Sum_of_last21=sum(a['Close'])\n",
    "print(\"Average of last 21 days close price:\",Sum_of_last21/21)"
   ]
  },
  {
   "cell_type": "code",
   "execution_count": 48,
   "id": "c91794c2",
   "metadata": {},
   "outputs": [
    {
     "name": "stdout",
     "output_type": "stream",
     "text": [
      "2. Make a average which has last 50 days close price\n",
      "\n",
      "\n",
      "Average of last 50 days close price: 31634.236000000004\n"
     ]
    }
   ],
   "source": [
    "print(\"2. Make a average which has last 50 days close price\\n\\n\")\n",
    "b=df.tail(50)\n",
    "Sum_of_last50=sum(b['Close'])\n",
    "print(\"Average of last 50 days close price:\",Sum_of_last50/50)"
   ]
  },
  {
   "cell_type": "code",
   "execution_count": 53,
   "id": "c8f9b261",
   "metadata": {},
   "outputs": [
    {
     "name": "stdout",
     "output_type": "stream",
     "text": [
      "3. Give a data set which has all the open=high values.\n",
      "\n",
      "\n",
      "A data set which has all the open=high values is as follows:\n",
      "             Date     Close      Open      High       Low\n",
      "10   Nov 11, 2021  38686.10  39044.00  39044.00  38442.95\n",
      "65   Aug 23, 2021  35159.20  35401.00  35401.00  34850.00\n",
      "175  Mar 10, 2021  36007.75  36244.00  36244.00  35816.00\n",
      "196  Feb 09, 2021  36045.95  36580.00  36580.00  35639.00\n",
      "216  Jan 11, 2021  32096.25  32480.00  32480.00  31888.00\n",
      "356  Jun 24, 2020  21400.60  22494.85  22494.85  21300.30\n",
      "392  May 04, 2020  19632.75  20600.00  20600.00  19505.00\n",
      "409  Apr 03, 2020  17175.80  18226.10  18226.10  17075.00\n",
      "433  Feb 27, 2020  30187.00  30265.00  30265.00  29951.15\n",
      "453  Jan 30, 2020  30647.40  31280.00  31280.00  30513.45\n",
      "461  Jan 20, 2020  31181.85  31997.65  31997.65  31126.10\n",
      "494  Dec 03, 2019  31711.20  31949.90  31949.90  31580.60\n"
     ]
    }
   ],
   "source": [
    "print(\"3. Give a data set which has all the open=high values.\\n\\n\")\n",
    "print(\"A data set which has all the open=high values is as follows:\")\n",
    "z=df[df['Open']==df['High']]\n",
    "z.to_excel('OPen_high.xlsx')\n",
    "print(df[df['Open']==df['High']])"
   ]
  },
  {
   "cell_type": "code",
   "execution_count": 54,
   "id": "b254dfa3",
   "metadata": {},
   "outputs": [
    {
     "name": "stdout",
     "output_type": "stream",
     "text": [
      "4. Give a data set which has all the open=low values.\n",
      "\n",
      "\n",
      "A data set which has all the open=Low values is as follows:\n",
      "             Date     Close      Open      High       Low\n",
      "9    Nov 12, 2021  38871.35  38171.05  38948.95  38171.05\n",
      "36   Oct 04, 2021  37735.25  37445.00  37785.00  37445.00\n",
      "57   Sep 02, 2021  36969.25  36511.00  37033.85  36511.00\n",
      "97   Jul 06, 2021  35677.40  35273.95  35925.00  35273.95\n",
      "222  Jan 01, 2021  31309.35  31250.00  31425.00  31250.00\n",
      "226  Dec 28, 2020  30928.30  30552.05  30975.40  30552.05\n",
      "241  Dec 04, 2020  30190.95  29350.00  30276.95  29350.00\n",
      "267  Oct 28, 2020  24214.25  23698.00  24795.00  23698.00\n",
      "322  Aug 11, 2020  22296.35  21900.00  22345.00  21900.00\n",
      "339  Jul 17, 2020  21971.10  21459.45  22081.00  21459.45\n",
      "364  Jun 12, 2020  20624.50  19555.00  20728.00  19555.00\n",
      "396  Apr 27, 2020  20107.10  19690.00  20240.00  19690.00\n",
      "497  Nov 28, 2019  32122.95  31874.25  32143.30  31874.25\n"
     ]
    }
   ],
   "source": [
    "print(\"4. Give a data set which has all the open=low values.\\n\\n\")\n",
    "print(\"A data set which has all the open=Low values is as follows:\")\n",
    "y=df[df['Open']==df['High']]\n",
    "y.to_excel('OPen_close.xlsx')\n",
    "print(df[df['Open']==df['Low']])"
   ]
  },
  {
   "cell_type": "code",
   "execution_count": null,
   "id": "29452350",
   "metadata": {},
   "outputs": [],
   "source": []
  }
 ],
 "metadata": {
  "kernelspec": {
   "display_name": "Python 3 (ipykernel)",
   "language": "python",
   "name": "python3"
  },
  "language_info": {
   "codemirror_mode": {
    "name": "ipython",
    "version": 3
   },
   "file_extension": ".py",
   "mimetype": "text/x-python",
   "name": "python",
   "nbconvert_exporter": "python",
   "pygments_lexer": "ipython3",
   "version": "3.10.1"
  }
 },
 "nbformat": 4,
 "nbformat_minor": 5
}
